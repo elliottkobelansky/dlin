{
 "cells": [
  {
   "cell_type": "code",
   "execution_count": 1,
   "id": "9d047dfb-c495-42bd-af2d-1c38ecc86770",
   "metadata": {},
   "outputs": [],
   "source": [
    "from dlin import trace"
   ]
  },
  {
   "cell_type": "code",
   "execution_count": 4,
   "id": "14db4c2b-3d41-4eb2-b0ee-87c2fa185d4b",
   "metadata": {},
   "outputs": [
    {
     "data": {
      "text/plain": [
       "{'edge': [],\n",
       " 'corner': [{'type': 'cycle',\n",
       "   'buffer': 'UFR',\n",
       "   'targets': ['BUL', 'RDF', 'LDF'],\n",
       "   'orientation': 0,\n",
       "   'parity': 1},\n",
       "  {'type': 'misoriented',\n",
       "   'buffer': 'UBR',\n",
       "   'targets': [],\n",
       "   'orientation': 1,\n",
       "   'parity': 0},\n",
       "  {'type': 'misoriented',\n",
       "   'buffer': 'DBL',\n",
       "   'targets': [],\n",
       "   'orientation': -1,\n",
       "   'parity': 0}],\n",
       " 'scramble': \"U' B2 R2 B D F' R' F' U L' U2 L2 U2 B' L2 F' L2 F2 D2 R2 B' Fw' Uw'\",\n",
       " 'rotation': ['x', 'y']}"
      ]
     },
     "execution_count": 4,
     "metadata": {},
     "output_type": "execute_result"
    }
   ],
   "source": [
    "trace(\"U' B2 R2 B D F' R' F' U L' U2 L2 U2 B' L2 F' L2 F2 D2 R2 B' Fw' Uw'\", swap=(\"UF\", \"UR\"), trace=\"corners\")"
   ]
  },
  {
   "cell_type": "code",
   "execution_count": null,
   "id": "30d54b52-b728-4f58-aeb3-3418c5bbf826",
   "metadata": {},
   "outputs": [],
   "source": []
  }
 ],
 "metadata": {
  "kernelspec": {
   "display_name": "Python 3 (ipykernel)",
   "language": "python",
   "name": "python3"
  },
  "language_info": {
   "codemirror_mode": {
    "name": "ipython",
    "version": 3
   },
   "file_extension": ".py",
   "mimetype": "text/x-python",
   "name": "python",
   "nbconvert_exporter": "python",
   "pygments_lexer": "ipython3",
   "version": "3.12.3"
  }
 },
 "nbformat": 4,
 "nbformat_minor": 5
}
