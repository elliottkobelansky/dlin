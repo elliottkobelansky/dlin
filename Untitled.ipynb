{
 "cells": [
  {
   "cell_type": "code",
   "execution_count": 1,
   "id": "7924e393",
   "metadata": {},
   "outputs": [],
   "source": [
    "from dlin.cube import Cube\n",
    "from dlin.tracer import Tracer\n",
    "\n",
    "\n",
    "BUFFERS = {\n",
    "    \"corner\": [\"UFR\", \"UFL\", \"UBL\", \"UBR\", \"DFR\", \"DFL\", \"DBR\"],\n",
    "    \"edge\": [\"UF\", \"UB\", \"UR\", \"UL\", \"FR\", \"FL\", \"DF\", \"DB\", \"DR\", \"DL\"]\n",
    "}\n"
   ]
  },
  {
   "cell_type": "code",
   "execution_count": 14,
   "id": "5cb3f860",
   "metadata": {},
   "outputs": [
    {
     "data": {
      "text/plain": [
       "['', 'U', 'F']"
      ]
     },
     "execution_count": 14,
     "metadata": {},
     "output_type": "execute_result"
    }
   ],
   "source": [
    "# UF UB DF DB\n",
    "# FR FL BR BL\n",
    "# UR UL DR DL\n",
    "\n",
    "# xUF\n",
    "# RxF\n",
    "c = Tracer()\n",
    "\n",
    "c.cube[1, 2, 0].sides"
   ]
  },
  {
   "cell_type": "code",
   "execution_count": 12,
   "id": "cce67f83",
   "metadata": {},
   "outputs": [
    {
     "data": {
      "text/plain": [
       "{'edge': [{'type': 'cycle',\n",
       "   'buffer': 'UF',\n",
       "   'targets': ['UR'],\n",
       "   'orientation': 0,\n",
       "   'parity': 1}],\n",
       " 'corner': [],\n",
       " 'scramble': '',\n",
       " 'rotation': []}"
      ]
     },
     "execution_count": 12,
     "metadata": {},
     "output_type": "execute_result"
    }
   ],
   "source": [
    "c.pseudoswap(\"UF\", \"UR\")\n",
    "c.trace_cube()\n",
    "c.tracing"
   ]
  },
  {
   "cell_type": "code",
   "execution_count": 9,
   "id": "3ae9e841",
   "metadata": {},
   "outputs": [
    {
     "data": {
      "text/plain": [
       "['R', 'U', '']"
      ]
     },
     "execution_count": 9,
     "metadata": {},
     "output_type": "execute_result"
    }
   ],
   "source": [
    "c.cube[1,2,0].sides"
   ]
  },
  {
   "cell_type": "code",
   "execution_count": 20,
   "id": "457538b0",
   "metadata": {},
   "outputs": [
    {
     "data": {
      "text/plain": [
       "13668750"
      ]
     },
     "execution_count": 20,
     "metadata": {},
     "output_type": "execute_result"
    }
   ],
   "source": [
    "18*15"
   ]
  },
  {
   "cell_type": "code",
   "execution_count": null,
   "id": "b5423727",
   "metadata": {},
   "outputs": [],
   "source": []
  }
 ],
 "metadata": {
  "kernelspec": {
   "display_name": "Python 3 (ipykernel)",
   "language": "python",
   "name": "python3"
  },
  "language_info": {
   "codemirror_mode": {
    "name": "ipython",
    "version": 3
   },
   "file_extension": ".py",
   "mimetype": "text/x-python",
   "name": "python",
   "nbconvert_exporter": "python",
   "pygments_lexer": "ipython3",
   "version": "3.8.9"
  }
 },
 "nbformat": 4,
 "nbformat_minor": 5
}
